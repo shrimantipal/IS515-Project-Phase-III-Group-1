{
 "cells": [
  {
   "cell_type": "markdown",
   "id": "27441829-3bf0-45fd-8d7a-dafaf6947fad",
   "metadata": {},
   "source": [
    "# Project Phase III: Logica Design and Queries"
   ]
  },
  {
   "cell_type": "markdown",
   "id": "fb7d5965-a607-4107-97fa-2039ece0fc5d",
   "metadata": {},
   "source": [
    "Based on the feedback you received from previous milstones, using Logica to design the model and translate SQL queries in this notebook.\n",
    "\n",
    "Note: You might check **company/Logica_COMPANY.ipynb** for more information "
   ]
  },
  {
   "cell_type": "markdown",
   "id": "ea2bb6a1-4751-431e-a25f-8e21b55df47f",
   "metadata": {},
   "source": [
    "### Package Installation"
   ]
  },
  {
   "cell_type": "markdown",
   "id": "e1405820-19cd-47d4-be87-a88776845db2",
   "metadata": {},
   "source": [
    "First-time users need to install the following packages"
   ]
  },
  {
   "cell_type": "code",
   "execution_count": 1,
   "id": "3ff4af4b-e77e-46fe-9855-bda28e33068d",
   "metadata": {},
   "outputs": [
    {
     "name": "stdout",
     "output_type": "stream",
     "text": [
      "Requirement already satisfied: logica in /home/vscode/.local/lib/python3.9/site-packages (1.3.1415926)\n",
      "Collecting pandas\n",
      "  Downloading pandas-2.1.3-cp39-cp39-manylinux_2_17_x86_64.manylinux2014_x86_64.whl (12.3 MB)\n",
      "\u001b[K     |████████████████████████████████| 12.3 MB 32.7 MB/s eta 0:00:01\n",
      "\u001b[?25hRequirement already satisfied: python-dateutil>=2.8.2 in /home/vscode/.local/lib/python3.9/site-packages (from pandas) (2.8.2)\n",
      "Collecting tzdata>=2022.1\n",
      "  Downloading tzdata-2023.3-py2.py3-none-any.whl (341 kB)\n",
      "\u001b[K     |████████████████████████████████| 341 kB 93.1 MB/s eta 0:00:01\n",
      "\u001b[?25hCollecting numpy<2,>=1.22.4\n",
      "  Downloading numpy-1.26.2-cp39-cp39-manylinux_2_17_x86_64.manylinux2014_x86_64.whl (18.2 MB)\n",
      "\u001b[K     |████████████████████████████████| 18.2 MB 66.8 MB/s eta 0:00:01\n",
      "\u001b[?25hCollecting pytz>=2020.1\n",
      "  Downloading pytz-2023.3.post1-py2.py3-none-any.whl (502 kB)\n",
      "\u001b[K     |████████████████████████████████| 502 kB 91.3 MB/s eta 0:00:01\n",
      "\u001b[?25hRequirement already satisfied: six>=1.5 in /home/vscode/.local/lib/python3.9/site-packages (from python-dateutil>=2.8.2->pandas) (1.16.0)\n",
      "Installing collected packages: tzdata, pytz, numpy, pandas\n",
      "Successfully installed numpy-1.26.2 pandas-2.1.3 pytz-2023.3.post1 tzdata-2023.3\n",
      "Collecting ipython-sql\n",
      "  Downloading ipython_sql-0.5.0-py3-none-any.whl (20 kB)\n",
      "Collecting sqlalchemy>=2.0\n",
      "  Downloading SQLAlchemy-2.0.23-cp39-cp39-manylinux_2_17_x86_64.manylinux2014_x86_64.whl (3.1 MB)\n",
      "\u001b[K     |████████████████████████████████| 3.1 MB 52.2 MB/s eta 0:00:01\n",
      "\u001b[?25hCollecting sqlparse\n",
      "  Downloading sqlparse-0.4.4-py3-none-any.whl (41 kB)\n",
      "\u001b[K     |████████████████████████████████| 41 kB 60 kB/s s eta 0:00:01\n",
      "\u001b[?25hCollecting ipython-genutils\n",
      "  Downloading ipython_genutils-0.2.0-py2.py3-none-any.whl (26 kB)\n",
      "Requirement already satisfied: six in /home/vscode/.local/lib/python3.9/site-packages (from ipython-sql) (1.16.0)\n",
      "Requirement already satisfied: ipython in /home/vscode/.local/lib/python3.9/site-packages (from ipython-sql) (8.18.1)\n",
      "Collecting prettytable\n",
      "  Downloading prettytable-3.9.0-py3-none-any.whl (27 kB)\n",
      "Collecting greenlet!=0.4.17\n",
      "  Downloading greenlet-3.0.1-cp39-cp39-manylinux_2_24_x86_64.manylinux_2_28_x86_64.whl (610 kB)\n",
      "\u001b[K     |████████████████████████████████| 610 kB 82.5 MB/s eta 0:00:01\n",
      "\u001b[?25hRequirement already satisfied: typing-extensions>=4.2.0 in /home/vscode/.local/lib/python3.9/site-packages (from sqlalchemy>=2.0->ipython-sql) (4.8.0)\n",
      "Requirement already satisfied: exceptiongroup in /home/vscode/.local/lib/python3.9/site-packages (from ipython->ipython-sql) (1.2.0)\n",
      "Requirement already satisfied: matplotlib-inline in /home/vscode/.local/lib/python3.9/site-packages (from ipython->ipython-sql) (0.1.6)\n",
      "Requirement already satisfied: traitlets>=5 in /home/vscode/.local/lib/python3.9/site-packages (from ipython->ipython-sql) (5.14.0)\n",
      "Requirement already satisfied: jedi>=0.16 in /home/vscode/.local/lib/python3.9/site-packages (from ipython->ipython-sql) (0.19.1)\n",
      "Requirement already satisfied: pygments>=2.4.0 in /home/vscode/.local/lib/python3.9/site-packages (from ipython->ipython-sql) (2.17.2)\n",
      "Requirement already satisfied: pexpect>4.3 in /home/vscode/.local/lib/python3.9/site-packages (from ipython->ipython-sql) (4.9.0)\n",
      "Requirement already satisfied: stack-data in /home/vscode/.local/lib/python3.9/site-packages (from ipython->ipython-sql) (0.6.3)\n",
      "Requirement already satisfied: prompt-toolkit<3.1.0,>=3.0.41 in /home/vscode/.local/lib/python3.9/site-packages (from ipython->ipython-sql) (3.0.41)\n",
      "Requirement already satisfied: decorator in /home/vscode/.local/lib/python3.9/site-packages (from ipython->ipython-sql) (5.1.1)\n",
      "Requirement already satisfied: parso<0.9.0,>=0.8.3 in /home/vscode/.local/lib/python3.9/site-packages (from jedi>=0.16->ipython->ipython-sql) (0.8.3)\n",
      "Requirement already satisfied: ptyprocess>=0.5 in /home/vscode/.local/lib/python3.9/site-packages (from pexpect>4.3->ipython->ipython-sql) (0.7.0)\n",
      "Requirement already satisfied: wcwidth in /home/vscode/.local/lib/python3.9/site-packages (from prompt-toolkit<3.1.0,>=3.0.41->ipython->ipython-sql) (0.2.12)\n",
      "Requirement already satisfied: asttokens>=2.1.0 in /home/vscode/.local/lib/python3.9/site-packages (from stack-data->ipython->ipython-sql) (2.4.1)\n",
      "Requirement already satisfied: pure-eval in /home/vscode/.local/lib/python3.9/site-packages (from stack-data->ipython->ipython-sql) (0.2.2)\n",
      "Requirement already satisfied: executing>=1.2.0 in /home/vscode/.local/lib/python3.9/site-packages (from stack-data->ipython->ipython-sql) (2.0.1)\n",
      "Installing collected packages: greenlet, sqlparse, sqlalchemy, prettytable, ipython-genutils, ipython-sql\n",
      "Successfully installed greenlet-3.0.1 ipython-genutils-0.2.0 ipython-sql-0.5.0 prettytable-3.9.0 sqlalchemy-2.0.23 sqlparse-0.4.4\n",
      "Note: you may need to restart the kernel to use updated packages.\n"
     ]
    }
   ],
   "source": [
    "!python3 -m pip install logica\n",
    "!python3 -m pip install pandas\n",
    "%pip install ipython-sql"
   ]
  },
  {
   "cell_type": "markdown",
   "id": "2e3f5043-7460-4779-b370-b5b7c26dc1aa",
   "metadata": {},
   "source": [
    "After running the cell above, please restart the kernel to move on"
   ]
  },
  {
   "cell_type": "markdown",
   "id": "d5336421-0f54-4e6b-bfa0-17aec63b9c7f",
   "metadata": {},
   "source": [
    "### Package Import"
   ]
  },
  {
   "cell_type": "markdown",
   "id": "07f5ff1f-ff73-48b9-a421-7dc7677e17db",
   "metadata": {},
   "source": [
    "You can disregard the messages (\"Could not import ...\") when executing the cell below"
   ]
  },
  {
   "cell_type": "code",
   "execution_count": 2,
   "id": "bdc4b02a-6333-4ba6-8e4b-2db8c9c69195",
   "metadata": {},
   "outputs": [
    {
     "name": "stdout",
     "output_type": "stream",
     "text": [
      "Could not import google.cloud.bigquery.\n",
      "Could not import google.cloud.auth.\n",
      "Could not import google.colab.widgets.\n"
     ]
    }
   ],
   "source": [
    "from logica import colab_logica\n",
    "import pandas as pd\n",
    "import sqlite3"
   ]
  },
  {
   "cell_type": "code",
   "execution_count": 3,
   "id": "a3dca9da-8207-47a2-ac26-cb9760710cae",
   "metadata": {},
   "outputs": [],
   "source": [
    "colab_logica.SetPreamble(\n",
    "    '@Engine(\"sqlite\"); @AttachDatabase(\"mydata\", \"my_database.db\");'\n",
    ")"
   ]
  },
  {
   "cell_type": "code",
   "execution_count": 4,
   "id": "e3c7e1d4-c95c-4a1f-82c2-9e3201d0d011",
   "metadata": {},
   "outputs": [],
   "source": [
    "%load_ext sql"
   ]
  },
  {
   "cell_type": "markdown",
   "id": "45392a18-e405-49e4-9c33-7aff747f0be7",
   "metadata": {},
   "source": [
    "### Database Creation [10pts]"
   ]
  },
  {
   "cell_type": "markdown",
   "id": "d068c2f8-4acc-478b-b3f0-00064c481c56",
   "metadata": {},
   "source": [
    "Logica is typically run on a database. Since we only possess CSV files, we need first create a database.\n",
    "\n",
    "**Note: Upload your csv files to `datasets` folder.**"
   ]
  },
  {
   "cell_type": "code",
   "execution_count": 6,
   "id": "0d5b18f1-d4d2-4637-afb7-31932fb6340d",
   "metadata": {},
   "outputs": [],
   "source": [
    "# Read csv files as Pandas DataFrame [2pts]\n",
    "# Insert your code below:\n",
    "Award = pd.read_csv('./datasets/Award.csv')\n",
    "AwardReceivers = pd.read_csv('./datasets/AwardReceivers.csv')\n",
    "Department = pd.read_csv('./datasets/Department.csv')\n",
    "Donor = pd.read_csv('./datasets/Donor.csv')\n",
    "PresidentProvostDean = pd.read_csv('./datasets/PresidentProvostDean.csv')\n",
    "Student = pd.read_csv('./datasets/Student.csv')\n",
    "UniversityMember = pd.read_csv('./datasets/UniversityMember.csv')"
   ]
  },
  {
   "cell_type": "code",
   "execution_count": 7,
   "id": "78ac9632-f8a9-4810-8ba1-2f65dc00f408",
   "metadata": {},
   "outputs": [],
   "source": [
    "# Lowercase the columns from all of the tables [Ignore this step if they're already lowercase] [2pts]"
   ]
  },
  {
   "cell_type": "code",
   "execution_count": 8,
   "id": "451fa7cb-d7c1-4717-a49f-0a843bb0de88",
   "metadata": {},
   "outputs": [],
   "source": [
    "# Using sqlite3 to create database and create tables [6pts]\n",
    "# Note: Name the database with your group ID\n",
    "# Insert your code below:\n",
    "conn = sqlite3.connect(\"Group1.db\")\n",
    "\n",
    "Award.to_sql('Award', conn, if_exists='replace')\n",
    "AwardReceivers.to_sql('AwardReceivers', conn, if_exists='replace')\n",
    "Department.to_sql('Department', conn, if_exists='replace')\n",
    "Donor.to_sql('Donor', conn, if_exists='replace')\n",
    "PresidentProvostDean.to_sql('PresidentProvostDean', conn, if_exists='replace')\n",
    "Student.to_sql('Student', conn, if_exists='replace')\n",
    "UniversityMember.to_sql('UniversityMember', conn, if_exists='replace')\n",
    "\n",
    "conn.commit()\n",
    "conn.close()"
   ]
  },
  {
   "cell_type": "markdown",
   "id": "013c1314-3656-4234-bb5a-a5f6f9a35180",
   "metadata": {},
   "source": [
    "### Queries [30pts]\n",
    "#### Translate your SQL queries from Project Milestone II to Logica queries\n",
    "\n",
    "To earn the full points, please ensure you fulfill all the three requirements as following:\n",
    "- Write the queries in English [2pts]\n",
    "- Write the queries in SQL (copy-paste from phase II)[2pts]\n",
    "- Write the queries in Logica [7pts]\n",
    "\n",
    "Note: If you find it hard to do the translation, provide 2 to 3 sentences to explain "
   ]
  },
  {
   "cell_type": "markdown",
   "id": "da79fee8",
   "metadata": {},
   "source": [
    "#### Query 0:  Which students have received an award worth more than $300?"
   ]
  },
  {
   "cell_type": "code",
   "execution_count": 9,
   "id": "8daf6215",
   "metadata": {},
   "outputs": [
    {
     "name": "stdout",
     "output_type": "stream",
     "text": [
      "Done.\n"
     ]
    },
    {
     "data": {
      "text/html": [
       "<table>\n",
       "    <thead>\n",
       "        <tr>\n",
       "            <th>student_id</th>\n",
       "            <th>student_name</th>\n",
       "            <th>award_name</th>\n",
       "            <th>award_value</th>\n",
       "        </tr>\n",
       "    </thead>\n",
       "    <tbody>\n",
       "        <tr>\n",
       "            <td>11100001</td>\n",
       "            <td>Tiannuo Wang</td>\n",
       "            <td>Academic Excellence Award</td>\n",
       "            <td>500</td>\n",
       "        </tr>\n",
       "        <tr>\n",
       "            <td>11100010</td>\n",
       "            <td>Tobio Kageyama</td>\n",
       "            <td>Excellent Sportsmanship Award</td>\n",
       "            <td>500</td>\n",
       "        </tr>\n",
       "    </tbody>\n",
       "</table>"
      ],
      "text/plain": [
       "[(11100001, 'Tiannuo Wang', 'Academic Excellence Award', 500),\n",
       " (11100010, 'Tobio Kageyama', 'Excellent Sportsmanship Award', 500)]"
      ]
     },
     "execution_count": 9,
     "metadata": {},
     "output_type": "execute_result"
    }
   ],
   "source": [
    "%%sql sqlite:///Group1.db\n",
    "\n",
    "SELECT s.student_id, s.student_name, a.award_name, a.award_value\n",
    "FROM AwardReceivers ar\n",
    "JOIN Student s ON ar.student_id = s.student_id\n",
    "JOIN Award a ON ar.award_id = a.award_id\n",
    "WHERE a.award_value > 300;"
   ]
  },
  {
   "cell_type": "code",
   "execution_count": 10,
   "id": "be8ede99-34f1-4522-8f10-df3704696e03",
   "metadata": {},
   "outputs": [
    {
     "name": "stdout",
     "output_type": "stream",
     "text": [
      "Query is stored at \u001b[1mHighValueAwards_sql\u001b[0m variable.\n"
     ]
    },
    {
     "data": {
      "text/html": [
       "<div style=\"border: 1px solid rgba(0, 0, 0, 0.3);width: fit-content;;padding: 20px;border-radius: 5px;box-shadow: 1px 1px 3px rgba(0, 0, 0, 0.2)\"><pre> ▚  HighValueAwards</pre></div>"
      ],
      "text/plain": [
       "<IPython.core.display.HTML object>"
      ]
     },
     "metadata": {},
     "output_type": "display_data"
    },
    {
     "name": "stdout",
     "output_type": "stream",
     "text": [
      "Running predicate: HighValueAwards (1 ms)\n",
      "The following table is stored at \u001b[1mHighValueAwards\u001b[0m variable.\n"
     ]
    },
    {
     "data": {
      "text/html": [
       "<div>\n",
       "<style scoped>\n",
       "    .dataframe tbody tr th:only-of-type {\n",
       "        vertical-align: middle;\n",
       "    }\n",
       "\n",
       "    .dataframe tbody tr th {\n",
       "        vertical-align: top;\n",
       "    }\n",
       "\n",
       "    .dataframe thead th {\n",
       "        text-align: right;\n",
       "    }\n",
       "</style>\n",
       "<table border=\"1\" class=\"dataframe\">\n",
       "  <thead>\n",
       "    <tr style=\"text-align: right;\">\n",
       "      <th></th>\n",
       "      <th>student_id</th>\n",
       "      <th>student_name</th>\n",
       "      <th>award_name</th>\n",
       "      <th>award_value</th>\n",
       "    </tr>\n",
       "  </thead>\n",
       "  <tbody>\n",
       "    <tr>\n",
       "      <th>0</th>\n",
       "      <td>11100001</td>\n",
       "      <td>Tiannuo Wang</td>\n",
       "      <td>Academic Excellence Award</td>\n",
       "      <td>500</td>\n",
       "    </tr>\n",
       "    <tr>\n",
       "      <th>1</th>\n",
       "      <td>11100010</td>\n",
       "      <td>Tobio Kageyama</td>\n",
       "      <td>Excellent Sportsmanship Award</td>\n",
       "      <td>500</td>\n",
       "    </tr>\n",
       "  </tbody>\n",
       "</table>\n",
       "</div>"
      ],
      "text/plain": [
       "  student_id    student_name                     award_name  award_value\n",
       "0   11100001    Tiannuo Wang      Academic Excellence Award          500\n",
       "1   11100010  Tobio Kageyama  Excellent Sportsmanship Award          500"
      ]
     },
     "metadata": {},
     "output_type": "display_data"
    },
    {
     "name": "stdout",
     "output_type": "stream",
     "text": [
      " \n"
     ]
    }
   ],
   "source": [
    "%%logica HighValueAwards\n",
    "\n",
    "Student(student_id: \"11100001\", student_name: \"Tiannuo Wang\", university_id: \"wang12\", student_financial_record: \"self-funded\");\n",
    "Student(student_id: \"11100002\", student_name: \"Erika Lee\", university_id: \"elee22\", student_financial_record: \"self-funded\");\n",
    "Student(student_id: \"11100003\", student_name: \"Shrimanti Pal\", university_id: \"spal11\", student_financial_record: \"self-funded\");\n",
    "Student(student_id: \"11100004\", student_name: \"Percy Jackson\", university_id: \"percy10\", student_financial_record: \"financial aid\");\n",
    "Student(student_id: \"11100005\", student_name: \"Harry Potter\", university_id: \"potter3\", student_financial_record: \"financial aid\");\n",
    "Student(student_id: \"11100006\", student_name: \"Annabeth Chase\", university_id: \"achase24\", student_financial_record: \"scholarship\");\n",
    "Student(student_id: \"11100007\", student_name: \"Hermione Granger\", university_id: \"hgran5\", student_financial_record: \"scholarship\");\n",
    "Student(student_id: \"11100008\", student_name: \"Draco Malfoy\", university_id: \"malfoy1\", student_financial_record: \"self-funded\");\n",
    "Student(student_id: \"11100009\", student_name: \"Ron Weasley\", university_id: \"rweas7\", student_financial_record: \"financial aid\");\n",
    "Student(student_id: \"11100010\", student_name: \"Tobio Kageyama\", university_id: \"tobio9\", student_financial_record: \"scholarship\");\n",
    "Student(student_id: \"11100011\", student_name: \"Kei Tsukishima\", university_id: \"kei11\", student_financial_record: \"scholarship\");\n",
    "\n",
    "AwardReceivers(student_id: \"11100001\", award_id: \"501\", received_date: \"2023-01-10\");\n",
    "AwardReceivers(student_id: \"11100002\", award_id: \"601\", received_date: \"2022-11-20\");\n",
    "AwardReceivers(student_id: \"11100003\", award_id: \"503\", received_date: \"2023-05-12\");\n",
    "AwardReceivers(student_id: \"11100004\", award_id: \"701\", received_date: \"2022-06-22\");\n",
    "AwardReceivers(student_id: \"11100005\", award_id: \"802\", received_date: \"2023-05-10\");\n",
    "AwardReceivers(student_id: \"11100006\", award_id: \"506\", received_date: \"2019-01-05\");\n",
    "AwardReceivers(student_id: \"11100007\", award_id: \"507\", received_date: \"2019-11-12\");\n",
    "AwardReceivers(student_id: \"11100008\", award_id: \"508\", received_date: \"2023-01-10\");\n",
    "AwardReceivers(student_id: \"11100009\", award_id: \"702\", received_date: \"2022-11-20\");\n",
    "AwardReceivers(student_id: \"11100010\", award_id: \"411\", received_date: \"2023-01-11\");\n",
    "\n",
    "Award(award_id: \"501\", award_name: \"Academic Excellence Award\", award_value: 500, award_desc: \"Award for top academic performance\", donor_id: \"401\", department_id: \"301\");\n",
    "Award(award_id: \"601\", award_name: \"Community Service Award\", award_value: 200, award_desc: \"Award for outstanding community service\", donor_id: \"402\", department_id: \"302\");\n",
    "Award(award_id: \"503\", award_name: \"Innovation in Biology Award\", award_value: 300, award_desc: \"Award for innovation in biology\", donor_id: \"401\", department_id: \"303\");\n",
    "Award(award_id: \"701\", award_name: \"Tech Innovation Award\", award_value: 300, award_desc: \"Award for innovation in technology\", donor_id: \"404\", department_id: \"310\");\n",
    "Award(award_id: \"802\", award_name: \"Creative Writing Award\", award_value: 100, award_desc: \"Award for excellent creative writing skills\", donor_id: \"403\", department_id: \"311\");\n",
    "Award(award_id: \"506\", award_name: \"Innovation in Physics Award\", award_value: 300, award_desc: \"Award for innovation in physics\", donor_id: \"401\", department_id: \"310\");\n",
    "Award(award_id: \"507\", award_name: \"Innovation in Chemistry Award\", award_value: 300, award_desc: \"Award for innovation in chemistry\", donor_id: \"401\", department_id: \"309\");\n",
    "Award(award_id: \"508\", award_name: \"Innovation in Mathematics Award\", award_value: 300, award_desc: \"Award for innovation in mathematics\", donor_id: \"401\", department_id: \"312\");\n",
    "Award(award_id: \"702\", award_name: \"Innovation in Data Science Award\", award_value: 300, award_desc: \"Award for innovation in data science\", donor_id: \"404\", department_id: \"310\");\n",
    "Award(award_id: \"411\", award_name: \"Excellent Sportsmanship Award\", award_value: 500, award_desc: \"Award for top athletic performance\", donor_id: \"405\", department_id: \"341\");\n",
    "\n",
    "HighValueAwards(student_id:, student_name:, award_name:, award_value:) :-\n",
    "  Student(student_id:, student_name:),\n",
    "  AwardReceivers(student_id:, award_id:),\n",
    "  Award(award_id:, award_name:, award_value:),\n",
    "  award_value > 300;"
   ]
  },
  {
   "cell_type": "markdown",
   "id": "962d3f77-b3fe-47f1-b11a-0c90f269297e",
   "metadata": {},
   "source": [
    "#### Query 1:  What is the total value of awards funded by a specific donor named 'Hinata Corp'?"
   ]
  },
  {
   "cell_type": "code",
   "execution_count": 11,
   "id": "92b9b590",
   "metadata": {},
   "outputs": [
    {
     "name": "stdout",
     "output_type": "stream",
     "text": [
      "Done.\n"
     ]
    },
    {
     "data": {
      "text/html": [
       "<table>\n",
       "    <thead>\n",
       "        <tr>\n",
       "            <th>donor_name</th>\n",
       "            <th>total_award_value</th>\n",
       "        </tr>\n",
       "    </thead>\n",
       "    <tbody>\n",
       "        <tr>\n",
       "            <td>Hinata Corp</td>\n",
       "            <td>1700</td>\n",
       "        </tr>\n",
       "    </tbody>\n",
       "</table>"
      ],
      "text/plain": [
       "[('Hinata Corp', 1700)]"
      ]
     },
     "execution_count": 11,
     "metadata": {},
     "output_type": "execute_result"
    }
   ],
   "source": [
    "%%sql sqlite:///Group1.db\n",
    "SELECT d.donor_name, SUM(a.award_value) AS total_award_value\n",
    "FROM Donor d\n",
    "JOIN Award a ON d.donor_id = a.donor_id\n",
    "WHERE d.donor_name = 'Hinata Corp'\n",
    "GROUP BY d.donor_name;"
   ]
  },
  {
   "cell_type": "code",
   "execution_count": 12,
   "id": "afb740b8-ef07-4dce-9df5-d6ac21597d9d",
   "metadata": {},
   "outputs": [
    {
     "name": "stdout",
     "output_type": "stream",
     "text": [
      "Query is stored at \u001b[1mTotalValue4HinataCorp_sql\u001b[0m variable.\n"
     ]
    },
    {
     "data": {
      "text/html": [
       "<div style=\"border: 1px solid rgba(0, 0, 0, 0.3);width: fit-content;;padding: 20px;border-radius: 5px;box-shadow: 1px 1px 3px rgba(0, 0, 0, 0.2)\"><pre> ▚  TotalValue4HinataCorp</pre></div>"
      ],
      "text/plain": [
       "<IPython.core.display.HTML object>"
      ]
     },
     "metadata": {},
     "output_type": "display_data"
    },
    {
     "name": "stdout",
     "output_type": "stream",
     "text": [
      "Running predicate: TotalValue4HinataCorp (0 ms)\n",
      "The following table is stored at \u001b[1mTotalValue4HinataCorp\u001b[0m variable.\n"
     ]
    },
    {
     "data": {
      "text/html": [
       "<div>\n",
       "<style scoped>\n",
       "    .dataframe tbody tr th:only-of-type {\n",
       "        vertical-align: middle;\n",
       "    }\n",
       "\n",
       "    .dataframe tbody tr th {\n",
       "        vertical-align: top;\n",
       "    }\n",
       "\n",
       "    .dataframe thead th {\n",
       "        text-align: right;\n",
       "    }\n",
       "</style>\n",
       "<table border=\"1\" class=\"dataframe\">\n",
       "  <thead>\n",
       "    <tr style=\"text-align: right;\">\n",
       "      <th></th>\n",
       "      <th>donor_name</th>\n",
       "      <th>total_award_value</th>\n",
       "    </tr>\n",
       "  </thead>\n",
       "  <tbody>\n",
       "    <tr>\n",
       "      <th>0</th>\n",
       "      <td>Hinata Corp</td>\n",
       "      <td>1700</td>\n",
       "    </tr>\n",
       "  </tbody>\n",
       "</table>\n",
       "</div>"
      ],
      "text/plain": [
       "    donor_name  total_award_value\n",
       "0  Hinata Corp               1700"
      ]
     },
     "metadata": {},
     "output_type": "display_data"
    },
    {
     "name": "stdout",
     "output_type": "stream",
     "text": [
      " \n"
     ]
    }
   ],
   "source": [
    "%%logica TotalValue4HinataCorp\n",
    "\n",
    "Donor(donor_id: \"401\", donor_name: \"Hinata Corp\", donor_email: \"abc@hinata.com\", donor_address: \"123 Sunset Drive, LA, CA\", donor_phone_number: \"123-456-0191\");\n",
    "Donor(donor_id: \"402\", donor_name: \"Castle Inc\", donor_email: \"xyz@castle.com\", donor_address: \"304 E Springfield Ave, NYC, NY\", donor_phone_number: \"123-456-0193\");\n",
    "Donor(donor_id: \"403\", donor_name: \"Beckett Inc\", donor_email: \"abc123@beckett.com\", donor_address: \"102 Chalmers Boulevard, Chicago, IL\", donor_phone_number: \"123-456-0111\");\n",
    "Donor(donor_id: \"404\", donor_name: \"Daichi Holdings\", donor_email: \"efg@daichi.com\", donor_address: \"145 Clark Street, Fresno, CA\", donor_phone_number: \"312-456-0192\");\n",
    "Donor(donor_id: \"405\", donor_name: \"Singh Corp\", donor_email: \"jkl@singh.com\", donor_address: \"189 South Street, SF, CA\", donor_phone_number: \"123-426-0222\");\n",
    "\n",
    "Award(award_id: \"501\", award_name: \"Academic Excellence Award\", award_value: 500, award_desc: \"Award for top academic performance\", donor_id: \"401\", department_id: \"301\");\n",
    "Award(award_id: \"601\", award_name: \"Community Service Award\", award_value: 200, award_desc: \"Award for outstanding community service\", donor_id: \"402\", department_id: \"302\");\n",
    "Award(award_id: \"503\", award_name: \"Innovation in Biology Award\", award_value: 300, award_desc: \"Award for innovation in biology\", donor_id: \"401\", department_id: \"303\");\n",
    "Award(award_id: \"701\", award_name: \"Tech Innovation Award\", award_value: 300, award_desc: \"Award for innovation in technology\", donor_id: \"404\", department_id: \"310\");\n",
    "Award(award_id: \"802\", award_name: \"Creative Writing Award\", award_value: 100, award_desc: \"Award for excellent creative writing skills\", donor_id: \"403\", department_id: \"311\");\n",
    "Award(award_id: \"506\", award_name: \"Innovation in Physics Award\", award_value: 300, award_desc: \"Award for innovation in physics\", donor_id: \"401\", department_id: \"310\");\n",
    "Award(award_id: \"507\", award_name: \"Innovation in Chemistry Award\", award_value: 300, award_desc: \"Award for innovation in chemistry\", donor_id: \"401\", department_id: \"309\");\n",
    "Award(award_id: \"508\", award_name: \"Innovation in Mathematics Award\", award_value: 300, award_desc: \"Award for innovation in mathematics\", donor_id: \"401\", department_id: \"312\");\n",
    "Award(award_id: \"702\", award_name: \"Innovation in Data Science Award\", award_value: 300, award_desc: \"Award for innovation in data science\", donor_id: \"404\", department_id: \"310\");\n",
    "Award(award_id: \"411\", award_name: \"Excellent Sportsmanship Award\", award_value: 500, award_desc: \"Award for top athletic performance\", donor_id: \"405\", department_id: \"341\");\n",
    "\n",
    "TotalValue4HinataCorp(donor_name:, total_award_value? Sum=award_value) distinct :-\n",
    "  Donor(donor_name:, donor_id:), donor_name = \"Hinata Corp\",\n",
    "  Award(donor_id:, award_value:);"
   ]
  },
  {
   "cell_type": "markdown",
   "id": "81ccd6f9",
   "metadata": {},
   "source": [
    "#### Query 2: How many awards has each department offered, and what is the average value of those awards?"
   ]
  },
  {
   "cell_type": "code",
   "execution_count": 13,
   "id": "5e821d05",
   "metadata": {},
   "outputs": [
    {
     "name": "stdout",
     "output_type": "stream",
     "text": [
      "Done.\n"
     ]
    },
    {
     "data": {
      "text/html": [
       "<table>\n",
       "    <thead>\n",
       "        <tr>\n",
       "            <th>department_name</th>\n",
       "            <th>number_of_awards</th>\n",
       "            <th>average_award_value</th>\n",
       "        </tr>\n",
       "    </thead>\n",
       "    <tbody>\n",
       "        <tr>\n",
       "            <td>Athletics</td>\n",
       "            <td>1</td>\n",
       "            <td>500.0</td>\n",
       "        </tr>\n",
       "        <tr>\n",
       "            <td>Biology</td>\n",
       "            <td>1</td>\n",
       "            <td>300.0</td>\n",
       "        </tr>\n",
       "        <tr>\n",
       "            <td>Chemistry</td>\n",
       "            <td>1</td>\n",
       "            <td>300.0</td>\n",
       "        </tr>\n",
       "        <tr>\n",
       "            <td>Engineering</td>\n",
       "            <td>3</td>\n",
       "            <td>300.0</td>\n",
       "        </tr>\n",
       "        <tr>\n",
       "            <td>Environmental Sciences</td>\n",
       "            <td>1</td>\n",
       "            <td>200.0</td>\n",
       "        </tr>\n",
       "        <tr>\n",
       "            <td>Liberal Arts</td>\n",
       "            <td>1</td>\n",
       "            <td>100.0</td>\n",
       "        </tr>\n",
       "        <tr>\n",
       "            <td>Mathematics</td>\n",
       "            <td>1</td>\n",
       "            <td>300.0</td>\n",
       "        </tr>\n",
       "    </tbody>\n",
       "</table>"
      ],
      "text/plain": [
       "[('Athletics', 1, 500.0),\n",
       " ('Biology', 1, 300.0),\n",
       " ('Chemistry', 1, 300.0),\n",
       " ('Engineering', 3, 300.0),\n",
       " ('Environmental Sciences', 1, 200.0),\n",
       " ('Liberal Arts', 1, 100.0),\n",
       " ('Mathematics', 1, 300.0)]"
      ]
     },
     "execution_count": 13,
     "metadata": {},
     "output_type": "execute_result"
    }
   ],
   "source": [
    "%%sql sqlite:///Group1.db\n",
    "SELECT dep.department_name, COUNT(a.award_id) AS number_of_awards,\n",
    "AVG(a.award_value) AS average_award_value\n",
    "FROM Department dep\n",
    "JOIN Award a ON dep.department_id = a.department_id\n",
    "GROUP BY dep.department_name;"
   ]
  },
  {
   "cell_type": "code",
   "execution_count": 14,
   "id": "5e668d16",
   "metadata": {},
   "outputs": [
    {
     "name": "stdout",
     "output_type": "stream",
     "text": [
      "Query is stored at \u001b[1mDepartmentAwards_sql\u001b[0m variable.\n"
     ]
    },
    {
     "data": {
      "text/html": [
       "<div style=\"border: 1px solid rgba(0, 0, 0, 0.3);width: fit-content;;padding: 20px;border-radius: 5px;box-shadow: 1px 1px 3px rgba(0, 0, 0, 0.2)\"><pre> ▚  DepartmentAwards</pre></div>"
      ],
      "text/plain": [
       "<IPython.core.display.HTML object>"
      ]
     },
     "metadata": {},
     "output_type": "display_data"
    },
    {
     "name": "stdout",
     "output_type": "stream",
     "text": [
      "Running predicate: DepartmentAwards (0 ms)\n",
      "The following table is stored at \u001b[1mDepartmentAwards\u001b[0m variable.\n"
     ]
    },
    {
     "data": {
      "text/html": [
       "<div>\n",
       "<style scoped>\n",
       "    .dataframe tbody tr th:only-of-type {\n",
       "        vertical-align: middle;\n",
       "    }\n",
       "\n",
       "    .dataframe tbody tr th {\n",
       "        vertical-align: top;\n",
       "    }\n",
       "\n",
       "    .dataframe thead th {\n",
       "        text-align: right;\n",
       "    }\n",
       "</style>\n",
       "<table border=\"1\" class=\"dataframe\">\n",
       "  <thead>\n",
       "    <tr style=\"text-align: right;\">\n",
       "      <th></th>\n",
       "      <th>department_name</th>\n",
       "      <th>number_of_awards</th>\n",
       "      <th>average_award_value</th>\n",
       "    </tr>\n",
       "  </thead>\n",
       "  <tbody>\n",
       "    <tr>\n",
       "      <th>0</th>\n",
       "      <td>Athletics</td>\n",
       "      <td>1</td>\n",
       "      <td>500.0</td>\n",
       "    </tr>\n",
       "    <tr>\n",
       "      <th>1</th>\n",
       "      <td>Biology</td>\n",
       "      <td>1</td>\n",
       "      <td>300.0</td>\n",
       "    </tr>\n",
       "    <tr>\n",
       "      <th>2</th>\n",
       "      <td>Chemistry</td>\n",
       "      <td>1</td>\n",
       "      <td>300.0</td>\n",
       "    </tr>\n",
       "    <tr>\n",
       "      <th>3</th>\n",
       "      <td>Engineering</td>\n",
       "      <td>3</td>\n",
       "      <td>300.0</td>\n",
       "    </tr>\n",
       "    <tr>\n",
       "      <th>4</th>\n",
       "      <td>Environmental Sciences</td>\n",
       "      <td>1</td>\n",
       "      <td>200.0</td>\n",
       "    </tr>\n",
       "    <tr>\n",
       "      <th>5</th>\n",
       "      <td>Liberal Arts</td>\n",
       "      <td>1</td>\n",
       "      <td>100.0</td>\n",
       "    </tr>\n",
       "    <tr>\n",
       "      <th>6</th>\n",
       "      <td>Mathematics</td>\n",
       "      <td>1</td>\n",
       "      <td>300.0</td>\n",
       "    </tr>\n",
       "  </tbody>\n",
       "</table>\n",
       "</div>"
      ],
      "text/plain": [
       "          department_name  number_of_awards  average_award_value\n",
       "0               Athletics                 1                500.0\n",
       "1                 Biology                 1                300.0\n",
       "2               Chemistry                 1                300.0\n",
       "3             Engineering                 3                300.0\n",
       "4  Environmental Sciences                 1                200.0\n",
       "5            Liberal Arts                 1                100.0\n",
       "6             Mathematics                 1                300.0"
      ]
     },
     "metadata": {},
     "output_type": "display_data"
    },
    {
     "name": "stdout",
     "output_type": "stream",
     "text": [
      " \n"
     ]
    }
   ],
   "source": [
    "%%logica DepartmentAwards\n",
    "\n",
    "Department(department_id: \"302\", department_name: \"Environmental Sciences\", department_email: \"environment@uni.edu\", department_dean: \"Dr. Mark Paul\");\n",
    "Department(department_id: \"303\", department_name: \"Biology\", department_email: \"biology@uni.edu\", department_dean: \"Dr. John Cook\");\n",
    "Department(department_id: \"309\", department_name: \"Chemistry\", department_email: \"chemistry@uni.edu\", department_dean: \"Dr. Marie Curie\");\n",
    "Department(department_id: \"310\", department_name: \"Engineering\", department_email: \"engineering@uni.edu\", department_dean: \"Dr. Grace Hopper\");\n",
    "Department(department_id: \"311\", department_name: \"Liberal Arts\", department_email: \"liberalarts@uni.edu\", department_dean: \"Dr. Ben Smith\");\n",
    "Department(department_id: \"312\", department_name: \"Mathematics\", department_email: \"mathematics@uni.edu\", department_dean: \"Dr. Ada Lovelace\");\n",
    "Department(department_id: \"341\", department_name: \"Athletics\", department_email: \"sports@uni.edu\", department_dean: \"Dr. Chad Jones\");\n",
    "\n",
    "Award(award_id: \"501\", award_name: \"Academic Excellence Award\", award_value: 500, award_desc: \"Award for top academic performance\", donor_id: \"401\", department_id: \"301\");\n",
    "Award(award_id: \"601\", award_name: \"Community Service Award\", award_value: 200, award_desc: \"Award for outstanding community service\", donor_id: \"402\", department_id: \"302\");\n",
    "Award(award_id: \"503\", award_name: \"Innovation in Biology Award\", award_value: 300, award_desc: \"Award for innovation in biology\", donor_id: \"401\", department_id: \"303\");\n",
    "Award(award_id: \"701\", award_name: \"Tech Innovation Award\", award_value: 300, award_desc: \"Award for innovation in technology\", donor_id: \"404\", department_id: \"310\");\n",
    "Award(award_id: \"802\", award_name: \"Creative Writing Award\", award_value: 100, award_desc: \"Award for excellent creative writing skills\", donor_id: \"403\", department_id: \"311\");\n",
    "Award(award_id: \"506\", award_name: \"Innovation in Physics Award\", award_value: 300, award_desc: \"Award for innovation in physics\", donor_id: \"401\", department_id: \"310\");\n",
    "Award(award_id: \"507\", award_name: \"Innovation in Chemistry Award\", award_value: 300, award_desc: \"Award for innovation in chemistry\", donor_id: \"401\", department_id: \"309\");\n",
    "Award(award_id: \"508\", award_name: \"Innovation in Mathematics Award\", award_value: 300, award_desc: \"Award for innovation in mathematics\", donor_id: \"401\", department_id: \"312\");\n",
    "Award(award_id: \"702\", award_name: \"Innovation in Data Science Award\", award_value: 300, award_desc: \"Award for innovation in data science\", donor_id: \"404\", department_id: \"310\");\n",
    "Award(award_id: \"411\", award_name: \"Excellent Sportsmanship Award\", award_value: 500, award_desc: \"Award for top athletic performance\", donor_id: \"405\", department_id: \"341\");\n",
    "\n",
    "DepartmentAwards(department_name: , number_of_awards? Count=award_id, average_award_value? Avg=award_value) distinct :-\n",
    "  Department(department_name:, department_id:),\n",
    "  Award(award_id:, department_id:, award_value:)"
   ]
  }
 ],
 "metadata": {
  "kernelspec": {
   "display_name": "Python 3 (ipykernel)",
   "language": "python",
   "name": "python3"
  },
  "language_info": {
   "codemirror_mode": {
    "name": "ipython",
    "version": 3
   },
   "file_extension": ".py",
   "mimetype": "text/x-python",
   "name": "python",
   "nbconvert_exporter": "python",
   "pygments_lexer": "ipython3",
   "version": "3.9.2"
  },
  "vscode": {
   "interpreter": {
    "hash": "8b7eedf106401029ffa3b0a271f73d13ee39815d8ba2ed15df644150c1891f03"
   }
  }
 },
 "nbformat": 4,
 "nbformat_minor": 5
}
